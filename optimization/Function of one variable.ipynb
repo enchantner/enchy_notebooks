{
 "metadata": {
  "name": "",
  "signature": "sha256:cc3e584f0f0fd6136316cfc6af03ac57715c57dbe59e1903594ec166e1a25731"
 },
 "nbformat": 3,
 "nbformat_minor": 0,
 "worksheets": [
  {
   "cells": [
    {
     "cell_type": "heading",
     "level": 2,
     "metadata": {},
     "source": [
      "Svenn's algorithm"
     ]
    },
    {
     "cell_type": "code",
     "collapsed": false,
     "input": [
      "import numpy as np\n",
      "import matplotlib.pyplot as plt\n",
      "\n",
      "%pylab inline"
     ],
     "language": "python",
     "metadata": {},
     "outputs": [
      {
       "output_type": "stream",
       "stream": "stdout",
       "text": [
        "Populating the interactive namespace from numpy and matplotlib\n"
       ]
      }
     ],
     "prompt_number": 5
    },
    {
     "cell_type": "code",
     "collapsed": false,
     "input": [
      "x0 = 0  # starting point\n",
      "h = 0.5  # step\n",
      "\n",
      "def func(x):\n",
      "    return - (3 - np.power(x, 2)) * x  # our function"
     ],
     "language": "python",
     "metadata": {},
     "outputs": [],
     "prompt_number": 6
    },
    {
     "cell_type": "code",
     "collapsed": false,
     "input": [
      "fig, ax = plt.subplots()\n",
      "x = np.linspace(-3, 3, 100)\n",
      "y = func(x)\n",
      "ax.plot(x, y)\n",
      "ax.grid(True)"
     ],
     "language": "python",
     "metadata": {},
     "outputs": [
      {
       "metadata": {},
       "output_type": "display_data",
       "png": "[encoded data removed]",
       "text": [
        "<matplotlib.figure.Figure at 0x2e2ee10>"
       ]
      }
     ],
     "prompt_number": 7
    },
    {
     "cell_type": "code",
     "collapsed": false,
     "input": [
      "def optimize_svenn(x0, h):\n",
      "    f0 = func(x0)\n",
      "    f0_add = func(x0 + h)\n",
      "    f0_sub = func(x0 - h)\n",
      "    \n",
      "    xk1 = lambda xk0, t, k: (xk0 + 2.0 ** k * t)\n",
      "\n",
      "    if (f0 >= f0_sub) and (f0 >= f0_add):\n",
      "        return (None, None)\n",
      "    elif (f0 <= f0_sub) and (f0 <= f0_add):\n",
      "        return (x0 - h, x0 + h)\n",
      "    elif (f0 <= f0_sub) and (f0 >= f0_add):\n",
      "        a = x0\n",
      "    elif (f0 >= f0_sub) and (f0 <= f0_add):\n",
      "        h = -h\n",
      "        b = x0\n",
      "    \n",
      "    k = 1\n",
      "    x1 = x0 + h\n",
      "    x2 = xk1(x1, h, k)\n",
      "    f1 = func(x1)\n",
      "    f2 = func(x2)\n",
      "     \n",
      "    while f2 < f1:\n",
      "        if (h > 0):\n",
      "            a = x1\n",
      "        else:\n",
      "            b = x1\n",
      "        k += 1\n",
      "        \n",
      "        x1, f1 = x2, f2\n",
      "        x2 = xk1(x1, h, k)\n",
      "        f2 = func(x2)\n",
      "        \n",
      "    if (h > 0):\n",
      "        b = x2\n",
      "    else:\n",
      "        a = x2\n",
      "        \n",
      "    return a, b\n",
      "\n",
      "\n",
      "a, b = optimize_svenn(x0, h)\n",
      "\n",
      "if a is not None and b is not None:\n",
      "    fa, fb = func(a), func(b)\n",
      "    ax.plot([a], [fa], \"ro\")\n",
      "    ax.text(a, fa - 2, \"a\")\n",
      "    ax.plot([b], [fb], \"ro\")\n",
      "    ax.text(b, fb - 2, \"b\")\n",
      "    print \"a = {0}\".format(a)\n",
      "    print \"b = {0}\".format(b)\n",
      "else:\n",
      "    print \"Function is not unimodal\"\n",
      "    \n",
      "fig"
     ],
     "language": "python",
     "metadata": {},
     "outputs": [
      {
       "output_type": "stream",
       "stream": "stdout",
       "text": [
        "a = 0\n",
        "b = 1.5\n"
       ]
      },
      {
       "metadata": {},
       "output_type": "pyout",
       "png": "[encoded data removed]",
       "prompt_number": 9,
       "text": [
        "<matplotlib.figure.Figure at 0x2e2ee10>"
       ]
      }
     ],
     "prompt_number": 9
    },
    {
     "cell_type": "code",
     "collapsed": false,
     "input": [],
     "language": "python",
     "metadata": {},
     "outputs": []
    }
   ],
   "metadata": {}
  }
 ]
}